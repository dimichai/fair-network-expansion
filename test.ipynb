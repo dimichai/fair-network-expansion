{
 "cells": [
  {
   "cell_type": "code",
   "execution_count": 2,
   "metadata": {},
   "outputs": [
    {
     "name": "stdout",
     "output_type": "stream",
     "text": [
      "{'hidden_size': 128, 'static_size': 2, 'dynamic_size': 1, 'num_layers': 1, 'dropout': 0.1, 'seed': 20, 'checkpoint': None, 'test': False, 'epoch_max': 100, 'train_size': 128, 'line_unit_price': 1.0, 'station_price': 5.0, 'result_path': None, 'actor_lr': 0.001, 'critic_lr': 0.001, 'station_num_lim': 45, 'budget': 210, 'max_grad_norm': 2.0, 'environment': 'diagonal_5x5', 'reward': 'weighted', 'ses_weight': 0, 'var_lambda': 0, 'groups_file': 'groups.txt', 'actor': 'pointer'}\n"
     ]
    }
   ],
   "source": [
    "import torch\n",
    "import numpy as np\n",
    "import json\n",
    "import os\n",
    "import argparse\n",
    "import matplotlib.pyplot as plt\n",
    "import matplotlib as mpl\n",
    "\n",
    "from pathlib import Path\n",
    "from main import set_seed\n",
    "from environment import Environment\n",
    "from constraints import ForwardConstraints\n",
    "from trainer import Trainer\n",
    "\n",
    "from constants import device\n",
    "\n",
    "# Get cmd line arguments to reconstruct model\n",
    "result_path = \"result/diagonal_5x5_20220620_17_13_40.992363\"\n",
    "with open(os.path.join(result_path, \"args.txt\"), \"r\") as f:\n",
    "    args_dict = json.loads(f.read())\n",
    "args = argparse.Namespace(**args_dict)\n",
    "print(args_dict)"
   ]
  },
  {
   "cell_type": "code",
   "execution_count": 3,
   "metadata": {},
   "outputs": [
    {
     "name": "stdout",
     "output_type": "stream",
     "text": [
      "Number of trainable parameters: 182912\n"
     ]
    }
   ],
   "source": [
    "# Load environment, constraints, and trainer\n",
    "if args.seed:\n",
    "    set_seed(args.seed)\n",
    "environment = Environment(Path(f\"./environments/{args.environment}\"), groups_file=args.groups_file)\n",
    "constraints = ForwardConstraints(environment.grid_x_size, environment.grid_y_size, environment.existing_lines_full, environment.grid_to_vector)\n",
    "trainer = Trainer(environment, constraints, args)\n",
    "trainer.load_checkpoint(result_path)\n",
    "# trainer.actor.eval()"
   ]
  },
  {
   "cell_type": "code",
   "execution_count": 8,
   "metadata": {},
   "outputs": [
    {
     "data": {
      "text/plain": [
       "<matplotlib.image.AxesImage at 0x7f81d27af640>"
      ]
     },
     "execution_count": 8,
     "metadata": {},
     "output_type": "execute_result"
    },
    {
     "data": {
      "image/png": "[encoded data removed]",
      "text/plain": [
       "<Figure size 432x288 with 1 Axes>"
      ]
     },
     "metadata": {
      "needs_background": "light"
     },
     "output_type": "display_data"
    }
   ],
   "source": [
    "dynamic = torch.zeros((1, args.dynamic_size, environment.grid_size),\n",
    "                            device=device).float()\n",
    "data = trainer.actor.get_probs(environment.static, dynamic).view(1, 5, 5)[0].detach().numpy()\n",
    "plt.imshow(data)"
   ]
  },
  {
   "cell_type": "code",
   "execution_count": 3,
   "metadata": {},
   "outputs": [],
   "source": [
    "def grid_tour(environment, tour_idx):\n",
    "    g = torch.zeros((environment.grid_y_size, environment.grid_x_size))\n",
    "    for i, station in enumerate(tour_idx[0]):\n",
    "        co = environment.vector_to_grid(station).tolist()[0]\n",
    "        g[tuple(co)] = i + 1\n",
    "    return g\n",
    "\n",
    "def analyse_station_steps(trainer, environment, args):\n",
    "    # Setup env and sample from model\n",
    "    # Setup the initial static and dynamic states.\n",
    "    static = trainer.environment.static\n",
    "    dynamic = torch.zeros((1, args.dynamic_size, trainer.environment.grid_size),\n",
    "                        device=device).float()  # size with batch\n",
    "    # generate 128 different lines to have a bigger sample size\n",
    "    station_tensor = torch.zeros(args.station_num_lim, environment.grid_x_size * environment.grid_y_size)\n",
    "    for _ in range(2000):\n",
    "        with torch.no_grad():\n",
    "            tour_idx, _ = trainer.actor(static, dynamic, args.station_num_lim, decoder_input=None, last_hh=None)\n",
    "            for i, val in enumerate(tour_idx[0]):\n",
    "                station_tensor[i, val] += 1\n",
    "\n",
    "    # Remove zero count stations\n",
    "    station_tensor = [s for s in station_tensor if s.sum()]\n",
    "\n",
    "    nrows = int(np.ceil(len(station_tensor)/5))\n",
    "    ncols = min(len(station_tensor), 5)\n",
    "    fig, axs = plt.subplots(nrows, ncols, figsize=(15, 10))\n",
    "    if nrows == 1:\n",
    "        axs = np.expand_dims(axs, axis=0)\n",
    "\n",
    "    for i, station in enumerate(station_tensor):\n",
    "        data = np.zeros((environment.grid_x_size, environment.grid_y_size))\n",
    "        for gridnr, val in enumerate(station):\n",
    "            coordinate = environment.vector_to_grid(torch.Tensor([gridnr])).type(torch.long).tolist()\n",
    "            data[coordinate[0]][coordinate[1]] = val\n",
    "        axs[i // ncols][i % ncols].title.set_text(f\"Station {i + 1} frequency\")\n",
    "        axs[i // ncols][i % ncols].imshow(data)\n",
    "\n",
    "    for i in range(len(station_tensor), nrows * ncols):\n",
    "        axs[i // ncols][i % ncols].imshow(np.zeros((environment.grid_x_size, environment.grid_y_size)))\n",
    "\n",
    "    plt.tight_layout()\n",
    "    plt.show()\n",
    "\n",
    "\n"
   ]
  },
  {
   "cell_type": "code",
   "execution_count": 4,
   "metadata": {},
   "outputs": [
    {
     "name": "stderr",
     "output_type": "stream",
     "text": [
      "/home/lo/git/fair-network-expansion/environment.py:58: UserWarning: __floordiv__ is deprecated, and its behavior will change in a future version of pytorch. It currently rounds toward 0 (like the 'trunc' function NOT 'floor'). This results in incorrect rounding for negative values. To keep the current behavior, use torch.div(a, b, rounding_mode='trunc'), or for actual floor division, use torch.div(a, b, rounding_mode='floor').\n",
      "  grid_x = (vector_idx // self.grid_y_size)\n"
     ]
    },
    {
     "data": {
      "image/png": "[encoded data removed]",
      "text/plain": [
       "<Figure size 1080x720 with 10 Axes>"
      ]
     },
     "metadata": {
      "needs_background": "light"
     },
     "output_type": "display_data"
    }
   ],
   "source": [
    "analyse_station_steps(trainer, environment, args)"
   ]
  },
  {
   "cell_type": "code",
   "execution_count": null,
   "metadata": {},
   "outputs": [],
   "source": []
  },
  {
   "cell_type": "code",
   "execution_count": 305,
   "metadata": {},
   "outputs": [
    {
     "name": "stdout",
     "output_type": "stream",
     "text": [
      "tensor([[ 0,  1,  2,  3,  4],\n",
      "        [ 5,  6,  7,  8,  9],\n",
      "        [10, 11, 12, 13, 14],\n",
      "        [15, 16, 17, 18, 19],\n",
      "        [20, 21, 22, 23, 24]])\n"
     ]
    }
   ],
   "source": [
    "mask2 = torch.arange(0, 25, device=device).view(5,5)\n",
    "print(mask2)\n",
    "idx = torch.Tensor([3,1,2,3,3]).type(torch.long)"
   ]
  },
  {
   "cell_type": "code",
   "execution_count": 306,
   "metadata": {},
   "outputs": [
    {
     "name": "stdout",
     "output_type": "stream",
     "text": [
      "tensor([[ 0,  1,  2,  3,  4],\n",
      "        [ 5,  6,  7,  8,  9],\n",
      "        [10, 11, 12, 13, 14],\n",
      "        [15, 16, 17, 18, 19],\n",
      "        [20, 21, 22, 23, 24]])\n"
     ]
    },
    {
     "data": {
      "text/plain": [
       "tensor([[ 3,  1,  2,  3,  3],\n",
       "        [ 8,  6,  7,  8,  8],\n",
       "        [13, 11, 12, 13, 13],\n",
       "        [18, 16, 17, 18, 18],\n",
       "        [23, 21, 22, 23, 23]])"
      ]
     },
     "execution_count": 306,
     "metadata": {},
     "output_type": "execute_result"
    }
   ],
   "source": [
    "print(mask2)\n",
    "test = [[i,stat] for i, stat in enumerate(idx.tolist())]\n",
    "torch.index_select(mask2, dim=1, index=idx)"
   ]
  },
  {
   "cell_type": "code",
   "execution_count": null,
   "metadata": {},
   "outputs": [],
   "source": []
  }
 ],
 "metadata": {
  "interpreter": {
   "hash": "5da2f25db63311fd59f71128524396f7f62a4159926f102f10aff9bcd8df2bbb"
  },
  "kernelspec": {
   "display_name": "Python 3.10.4 64-bit ('fair-nw-expansion-linux': conda)",
   "language": "python",
   "name": "python3"
  },
  "language_info": {
   "codemirror_mode": {
    "name": "ipython",
    "version": 3
   },
   "file_extension": ".py",
   "mimetype": "text/x-python",
   "name": "python",
   "nbconvert_exporter": "python",
   "pygments_lexer": "ipython3",
   "version": "3.10.4"
  },
  "orig_nbformat": 4
 },
 "nbformat": 4,
 "nbformat_minor": 2
}
