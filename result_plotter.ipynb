{
 "cells": [
  {
   "cell_type": "code",
   "execution_count": 2,
   "metadata": {},
   "outputs": [],
   "source": [
    "from pathlib import Path\n",
    "import matplotlib.pyplot as plt\n",
    "import json\n",
    "import pandas as pd\n",
    "from environment import Environment\n",
    "import numpy as np\n",
    "plt.rcParams.update({'font.size': 18})"
   ]
  },
  {
   "cell_type": "code",
   "execution_count": 3,
   "metadata": {},
   "outputs": [
    {
     "ename": "FileNotFoundError",
     "evalue": "[Errno 2] No such file or directory: 'result/dilemma_5x5_20220503_13_58_29.563962/result_metrics.json'",
     "output_type": "error",
     "traceback": [
      "\u001b[0;31m---------------------------------------------------------------------------\u001b[0m",
      "\u001b[0;31mFileNotFoundError\u001b[0m                         Traceback (most recent call last)",
      "\u001b[1;32m/Users/dimichai/projects/phd/fair-network-expansion/result_plotter.ipynb Cell 2\u001b[0m in \u001b[0;36m<cell line: 8>\u001b[0;34m()\u001b[0m\n\u001b[1;32m      <a href='vscode-notebook-cell:/Users/dimichai/projects/phd/fair-network-expansion/result_plotter.ipynb#ch0000001?line=6'>7</a>\u001b[0m lines, group_ginis, group_pct_ginis, group_ods, group_ods_pct, group_pct_diff \u001b[39m=\u001b[39m [], [], [], [], [], []\n\u001b[1;32m      <a href='vscode-notebook-cell:/Users/dimichai/projects/phd/fair-network-expansion/result_plotter.ipynb#ch0000001?line=7'>8</a>\u001b[0m \u001b[39mfor\u001b[39;00m model_path \u001b[39min\u001b[39;00m models:\n\u001b[0;32m----> <a href='vscode-notebook-cell:/Users/dimichai/projects/phd/fair-network-expansion/result_plotter.ipynb#ch0000001?line=8'>9</a>\u001b[0m     \u001b[39mwith\u001b[39;00m \u001b[39mopen\u001b[39;49m(Path(\u001b[39m'\u001b[39;49m\u001b[39mresult\u001b[39;49m\u001b[39m'\u001b[39;49m, model_path, \u001b[39m'\u001b[39;49m\u001b[39mresult_metrics.json\u001b[39;49m\u001b[39m'\u001b[39;49m)) \u001b[39mas\u001b[39;00m json_file:\n\u001b[1;32m     <a href='vscode-notebook-cell:/Users/dimichai/projects/phd/fair-network-expansion/result_plotter.ipynb#ch0000001?line=9'>10</a>\u001b[0m         data \u001b[39m=\u001b[39m json\u001b[39m.\u001b[39mload(json_file)\n\u001b[1;32m     <a href='vscode-notebook-cell:/Users/dimichai/projects/phd/fair-network-expansion/result_plotter.ipynb#ch0000001?line=10'>11</a>\u001b[0m         lines\u001b[39m.\u001b[39mappend(data[\u001b[39m'\u001b[39m\u001b[39mavg_generated_line\u001b[39m\u001b[39m'\u001b[39m])\n",
      "\u001b[0;31mFileNotFoundError\u001b[0m: [Errno 2] No such file or directory: 'result/dilemma_5x5_20220503_13_58_29.563962/result_metrics.json'"
     ]
    }
   ],
   "source": [
    "# Paths of models to evalute\n",
    "# environment = Environment(Path(f\"./environments/dilemma\"), groups_file='./groups.txt')\n",
    "# constraints = ForwardConstraints(environment.grid_x_size, environment.grid_y_size, environment.existing_lines_full, environment.grid_to_vector)\n",
    "models = ['dilemma_5x5_20220503_13_58_29.563962', 'dilemma_5x5_20220503_17_47_23.454216', 'dilemma_5x5_20220419_13_22_47.509481', \n",
    "            'dilemma_5x5_20220418_17_43_08.080415', 'dilemma_5x5_20220503_15_18_36.055557', 'dilemma_5x5_20220503_16_36_50.970871']\n",
    "\n",
    "lines, group_ginis, group_pct_ginis, group_ods, group_ods_pct, group_pct_diff = [], [], [], [], [], []\n",
    "for model_path in models:\n",
    "    with open(Path('result', model_path, 'result_metrics.json')) as json_file:\n",
    "        data = json.load(json_file)\n",
    "        lines.append(data['avg_generated_line'])\n",
    "        group_ods.append(data['mean_sat_group_od'])\n",
    "        group_ods_pct.append(data['mean_sat_group_od_pct'])\n",
    "        group_ginis.append(0.5-data['group_gini'])\n",
    "        group_pct_ginis.append(0.5-data['group_pct_gini'])\n",
    "        group_pct_diff.append(1-abs(data['mean_sat_od_by_group_pct'][0] - data['mean_sat_od_by_group_pct'][1]))\n",
    "\n"
   ]
  },
  {
   "cell_type": "code",
   "execution_count": 4,
   "metadata": {},
   "outputs": [
    {
     "data": {
      "text/html": [
       "<div>\n",
       "<style scoped>\n",
       "    .dataframe tbody tr th:only-of-type {\n",
       "        vertical-align: middle;\n",
       "    }\n",
       "\n",
       "    .dataframe tbody tr th {\n",
       "        vertical-align: top;\n",
       "    }\n",
       "\n",
       "    .dataframe thead th {\n",
       "        text-align: right;\n",
       "    }\n",
       "</style>\n",
       "<table border=\"1\" class=\"dataframe\">\n",
       "  <thead>\n",
       "    <tr style=\"text-align: right;\">\n",
       "      <th></th>\n",
       "      <th>model</th>\n",
       "      <th>line</th>\n",
       "      <th>group_od</th>\n",
       "      <th>group_ods_pct</th>\n",
       "      <th>group_gini</th>\n",
       "      <th>group_pct_gini</th>\n",
       "      <th>group_pct_diff</th>\n",
       "    </tr>\n",
       "  </thead>\n",
       "  <tbody>\n",
       "  </tbody>\n",
       "</table>\n",
       "</div>"
      ],
      "text/plain": [
       "Empty DataFrame\n",
       "Columns: [model, line, group_od, group_ods_pct, group_gini, group_pct_gini, group_pct_diff]\n",
       "Index: []"
      ]
     },
     "execution_count": 4,
     "metadata": {},
     "output_type": "execute_result"
    }
   ],
   "source": [
    "metrics = pd.DataFrame(zip(models, lines, group_ods, group_ods_pct, group_ginis, group_pct_ginis, group_pct_diff), \n",
    "                columns=['model', 'line', 'group_od', 'group_ods_pct', 'group_gini', 'group_pct_gini', 'group_pct_diff'])\n",
    "\n",
    "metrics"
   ]
  },
  {
   "cell_type": "code",
   "execution_count": 5,
   "metadata": {},
   "outputs": [
    {
     "ename": "ValueError",
     "evalue": "'c' argument has 3 elements, which is inconsistent with 'x' and 'y' with size 0.",
     "output_type": "error",
     "traceback": [
      "\u001b[0;31m---------------------------------------------------------------------------\u001b[0m",
      "\u001b[0;31mValueError\u001b[0m                                Traceback (most recent call last)",
      "\u001b[1;32m/Users/dimichai/projects/phd/fair-network-expansion/result_plotter.ipynb Cell 4\u001b[0m in \u001b[0;36m<cell line: 25>\u001b[0;34m()\u001b[0m\n\u001b[1;32m     <a href='vscode-notebook-cell:/Users/dimichai/projects/phd/fair-network-expansion/result_plotter.ipynb#ch0000003?line=21'>22</a>\u001b[0m m \u001b[39m=\u001b[39m [\u001b[39m'\u001b[39m\u001b[39mo\u001b[39m\u001b[39m'\u001b[39m,\u001b[39m'\u001b[39m\u001b[39m^\u001b[39m\u001b[39m'\u001b[39m, \u001b[39m'\u001b[39m\u001b[39ms\u001b[39m\u001b[39m'\u001b[39m]\n\u001b[1;32m     <a href='vscode-notebook-cell:/Users/dimichai/projects/phd/fair-network-expansion/result_plotter.ipynb#ch0000003?line=22'>23</a>\u001b[0m c \u001b[39m=\u001b[39m [\u001b[39m'\u001b[39m\u001b[39my\u001b[39m\u001b[39m'\u001b[39m, \u001b[39m'\u001b[39m\u001b[39m#FF99CC\u001b[39m\u001b[39m'\u001b[39m, \u001b[39m'\u001b[39m\u001b[39m#FF0000\u001b[39m\u001b[39m'\u001b[39m]\n\u001b[0;32m---> <a href='vscode-notebook-cell:/Users/dimichai/projects/phd/fair-network-expansion/result_plotter.ipynb#ch0000003?line=24'>25</a>\u001b[0m scatter \u001b[39m=\u001b[39m mscatter(metrics_plot[\u001b[39m'\u001b[39;49m\u001b[39mgroup_ods_pct\u001b[39;49m\u001b[39m'\u001b[39;49m], metrics_plot[\u001b[39m'\u001b[39;49m\u001b[39mgroup_pct_diff\u001b[39;49m\u001b[39m'\u001b[39;49m], c\u001b[39m=\u001b[39;49mc, s\u001b[39m=\u001b[39;49ms, m\u001b[39m=\u001b[39;49mm, ax\u001b[39m=\u001b[39;49max)\n\u001b[1;32m     <a href='vscode-notebook-cell:/Users/dimichai/projects/phd/fair-network-expansion/result_plotter.ipynb#ch0000003?line=25'>26</a>\u001b[0m ax\u001b[39m.\u001b[39mset_xlabel(\u001b[39m'\u001b[39m\u001b[39m% o\u001b[39;00m\u001b[39mf total satisfied OD flows\u001b[39m\u001b[39m'\u001b[39m, fontsize\u001b[39m=\u001b[39m\u001b[39m18\u001b[39m)\n\u001b[1;32m     <a href='vscode-notebook-cell:/Users/dimichai/projects/phd/fair-network-expansion/result_plotter.ipynb#ch0000003?line=26'>27</a>\u001b[0m ax\u001b[39m.\u001b[39mset_ylabel(\u001b[39m'\u001b[39m\u001b[39mEquity of benefits (1-difference)\u001b[39m\u001b[39m'\u001b[39m, fontsize\u001b[39m=\u001b[39m\u001b[39m18\u001b[39m)\n",
      "\u001b[1;32m/Users/dimichai/projects/phd/fair-network-expansion/result_plotter.ipynb Cell 4\u001b[0m in \u001b[0;36mmscatter\u001b[0;34m(x, y, ax, m, **kw)\u001b[0m\n\u001b[1;32m      <a href='vscode-notebook-cell:/Users/dimichai/projects/phd/fair-network-expansion/result_plotter.ipynb#ch0000003?line=3'>4</a>\u001b[0m \u001b[39mimport\u001b[39;00m \u001b[39mmatplotlib\u001b[39;00m\u001b[39m.\u001b[39;00m\u001b[39mmarkers\u001b[39;00m \u001b[39mas\u001b[39;00m \u001b[39mmmarkers\u001b[39;00m\n\u001b[1;32m      <a href='vscode-notebook-cell:/Users/dimichai/projects/phd/fair-network-expansion/result_plotter.ipynb#ch0000003?line=4'>5</a>\u001b[0m \u001b[39mif\u001b[39;00m \u001b[39mnot\u001b[39;00m ax: ax\u001b[39m=\u001b[39mplt\u001b[39m.\u001b[39mgca()\n\u001b[0;32m----> <a href='vscode-notebook-cell:/Users/dimichai/projects/phd/fair-network-expansion/result_plotter.ipynb#ch0000003?line=5'>6</a>\u001b[0m sc \u001b[39m=\u001b[39m ax\u001b[39m.\u001b[39;49mscatter(x,y,\u001b[39m*\u001b[39;49m\u001b[39m*\u001b[39;49mkw)\n\u001b[1;32m      <a href='vscode-notebook-cell:/Users/dimichai/projects/phd/fair-network-expansion/result_plotter.ipynb#ch0000003?line=6'>7</a>\u001b[0m \u001b[39mif\u001b[39;00m (m \u001b[39mis\u001b[39;00m \u001b[39mnot\u001b[39;00m \u001b[39mNone\u001b[39;00m) \u001b[39mand\u001b[39;00m (\u001b[39mlen\u001b[39m(m)\u001b[39m==\u001b[39m\u001b[39mlen\u001b[39m(x)):\n\u001b[1;32m      <a href='vscode-notebook-cell:/Users/dimichai/projects/phd/fair-network-expansion/result_plotter.ipynb#ch0000003?line=7'>8</a>\u001b[0m     paths \u001b[39m=\u001b[39m []\n",
      "File \u001b[0;32m~/miniforge3/envs/fair-nw-expansion/lib/python3.9/site-packages/matplotlib/__init__.py:1412\u001b[0m, in \u001b[0;36m_preprocess_data.<locals>.inner\u001b[0;34m(ax, data, *args, **kwargs)\u001b[0m\n\u001b[1;32m   1409\u001b[0m \u001b[39m@functools\u001b[39m\u001b[39m.\u001b[39mwraps(func)\n\u001b[1;32m   1410\u001b[0m \u001b[39mdef\u001b[39;00m \u001b[39minner\u001b[39m(ax, \u001b[39m*\u001b[39margs, data\u001b[39m=\u001b[39m\u001b[39mNone\u001b[39;00m, \u001b[39m*\u001b[39m\u001b[39m*\u001b[39mkwargs):\n\u001b[1;32m   1411\u001b[0m     \u001b[39mif\u001b[39;00m data \u001b[39mis\u001b[39;00m \u001b[39mNone\u001b[39;00m:\n\u001b[0;32m-> 1412\u001b[0m         \u001b[39mreturn\u001b[39;00m func(ax, \u001b[39m*\u001b[39;49m\u001b[39mmap\u001b[39;49m(sanitize_sequence, args), \u001b[39m*\u001b[39;49m\u001b[39m*\u001b[39;49mkwargs)\n\u001b[1;32m   1414\u001b[0m     bound \u001b[39m=\u001b[39m new_sig\u001b[39m.\u001b[39mbind(ax, \u001b[39m*\u001b[39margs, \u001b[39m*\u001b[39m\u001b[39m*\u001b[39mkwargs)\n\u001b[1;32m   1415\u001b[0m     auto_label \u001b[39m=\u001b[39m (bound\u001b[39m.\u001b[39marguments\u001b[39m.\u001b[39mget(label_namer)\n\u001b[1;32m   1416\u001b[0m                   \u001b[39mor\u001b[39;00m bound\u001b[39m.\u001b[39mkwargs\u001b[39m.\u001b[39mget(label_namer))\n",
      "File \u001b[0;32m~/miniforge3/envs/fair-nw-expansion/lib/python3.9/site-packages/matplotlib/axes/_axes.py:4387\u001b[0m, in \u001b[0;36mAxes.scatter\u001b[0;34m(self, x, y, s, c, marker, cmap, norm, vmin, vmax, alpha, linewidths, edgecolors, plotnonfinite, **kwargs)\u001b[0m\n\u001b[1;32m   4384\u001b[0m \u001b[39mif\u001b[39;00m edgecolors \u001b[39mis\u001b[39;00m \u001b[39mNone\u001b[39;00m:\n\u001b[1;32m   4385\u001b[0m     orig_edgecolor \u001b[39m=\u001b[39m kwargs\u001b[39m.\u001b[39mget(\u001b[39m'\u001b[39m\u001b[39medgecolor\u001b[39m\u001b[39m'\u001b[39m, \u001b[39mNone\u001b[39;00m)\n\u001b[1;32m   4386\u001b[0m c, colors, edgecolors \u001b[39m=\u001b[39m \\\n\u001b[0;32m-> 4387\u001b[0m     \u001b[39mself\u001b[39;49m\u001b[39m.\u001b[39;49m_parse_scatter_color_args(\n\u001b[1;32m   4388\u001b[0m         c, edgecolors, kwargs, x\u001b[39m.\u001b[39;49msize,\n\u001b[1;32m   4389\u001b[0m         get_next_color_func\u001b[39m=\u001b[39;49m\u001b[39mself\u001b[39;49m\u001b[39m.\u001b[39;49m_get_patches_for_fill\u001b[39m.\u001b[39;49mget_next_color)\n\u001b[1;32m   4391\u001b[0m \u001b[39mif\u001b[39;00m plotnonfinite \u001b[39mand\u001b[39;00m colors \u001b[39mis\u001b[39;00m \u001b[39mNone\u001b[39;00m:\n\u001b[1;32m   4392\u001b[0m     c \u001b[39m=\u001b[39m np\u001b[39m.\u001b[39mma\u001b[39m.\u001b[39mmasked_invalid(c)\n",
      "File \u001b[0;32m~/miniforge3/envs/fair-nw-expansion/lib/python3.9/site-packages/matplotlib/axes/_axes.py:4237\u001b[0m, in \u001b[0;36mAxes._parse_scatter_color_args\u001b[0;34m(c, edgecolors, kwargs, xsize, get_next_color_func)\u001b[0m\n\u001b[1;32m   4233\u001b[0m     \u001b[39melse\u001b[39;00m:\n\u001b[1;32m   4234\u001b[0m         \u001b[39mif\u001b[39;00m \u001b[39mlen\u001b[39m(colors) \u001b[39mnot\u001b[39;00m \u001b[39min\u001b[39;00m (\u001b[39m0\u001b[39m, \u001b[39m1\u001b[39m, xsize):\n\u001b[1;32m   4235\u001b[0m             \u001b[39m# NB: remember that a single color is also acceptable.\u001b[39;00m\n\u001b[1;32m   4236\u001b[0m             \u001b[39m# Besides *colors* will be an empty array if c == 'none'.\u001b[39;00m\n\u001b[0;32m-> 4237\u001b[0m             \u001b[39mraise\u001b[39;00m invalid_shape_exception(\u001b[39mlen\u001b[39m(colors), xsize)\n\u001b[1;32m   4238\u001b[0m \u001b[39melse\u001b[39;00m:\n\u001b[1;32m   4239\u001b[0m     colors \u001b[39m=\u001b[39m \u001b[39mNone\u001b[39;00m  \u001b[39m# use cmap, norm after collection is created\u001b[39;00m\n",
      "\u001b[0;31mValueError\u001b[0m: 'c' argument has 3 elements, which is inconsistent with 'x' and 'y' with size 0."
     ]
    },
    {
     "data": {
      "image/png": "[encoded data removed]",
      "text/plain": [
       "<Figure size 504x504 with 1 Axes>"
      ]
     },
     "metadata": {
      "needs_background": "light"
     },
     "output_type": "display_data"
    }
   ],
   "source": [
    "# To create a scatterplot with different custom markers.\n",
    "# From https://github.com/matplotlib/matplotlib/issues/11155\n",
    "def mscatter(x,y,ax=None, m=None, **kw):\n",
    "    import matplotlib.markers as mmarkers\n",
    "    if not ax: ax=plt.gca()\n",
    "    sc = ax.scatter(x,y,**kw)\n",
    "    if (m is not None) and (len(m)==len(x)):\n",
    "        paths = []\n",
    "        for marker in m:\n",
    "            if isinstance(marker, mmarkers.MarkerStyle):\n",
    "                marker_obj = marker\n",
    "            else:\n",
    "                marker_obj = mmarkers.MarkerStyle(marker)\n",
    "            path = marker_obj.get_path().transformed(\n",
    "                        marker_obj.get_transform())\n",
    "            paths.append(path)\n",
    "        sc.set_paths(paths)\n",
    "\n",
    "metrics_plot = metrics.drop_duplicates(['group_ods_pct', 'group_gini'])\n",
    "fig, ax = plt.subplots(figsize=(7, 7))\n",
    "s = np.repeat(400, metrics_plot.shape[0])\n",
    "m = ['o','^', 's']\n",
    "c = ['y', '#FF99CC', '#FF0000']\n",
    "\n",
    "scatter = mscatter(metrics_plot['group_ods_pct'], metrics_plot['group_pct_diff'], c=c, s=s, m=m, ax=ax)\n",
    "ax.set_xlabel('% of total satisfied OD flows', fontsize=18)\n",
    "ax.set_ylabel('Equity of benefits (1-difference)', fontsize=18)\n",
    "fig.suptitle('Utility vs Equity - Dilemma Environment')\n",
    "ax.set_ylim((0.25,1))\n",
    "ax.set_xlim((0.25,1))"
   ]
  },
  {
   "cell_type": "code",
   "execution_count": 6,
   "metadata": {},
   "outputs": [
    {
     "data": {
      "text/html": [
       "<div>\n",
       "<style scoped>\n",
       "    .dataframe tbody tr th:only-of-type {\n",
       "        vertical-align: middle;\n",
       "    }\n",
       "\n",
       "    .dataframe tbody tr th {\n",
       "        vertical-align: top;\n",
       "    }\n",
       "\n",
       "    .dataframe thead th {\n",
       "        text-align: right;\n",
       "    }\n",
       "</style>\n",
       "<table border=\"1\" class=\"dataframe\">\n",
       "  <thead>\n",
       "    <tr style=\"text-align: right;\">\n",
       "      <th></th>\n",
       "      <th>model</th>\n",
       "      <th>line</th>\n",
       "      <th>group_od</th>\n",
       "      <th>group_ods_pct</th>\n",
       "      <th>group_gini</th>\n",
       "      <th>group_pct_gini</th>\n",
       "      <th>group_pct_diff</th>\n",
       "    </tr>\n",
       "  </thead>\n",
       "  <tbody>\n",
       "  </tbody>\n",
       "</table>\n",
       "</div>"
      ],
      "text/plain": [
       "Empty DataFrame\n",
       "Columns: [model, line, group_od, group_ods_pct, group_gini, group_pct_gini, group_pct_diff]\n",
       "Index: []"
      ]
     },
     "execution_count": 6,
     "metadata": {},
     "output_type": "execute_result"
    }
   ],
   "source": [
    "metrics.drop_duplicates(['group_ods_pct', 'group_gini'])"
   ]
  },
  {
   "cell_type": "code",
   "execution_count": 7,
   "metadata": {},
   "outputs": [],
   "source": [
    "# fig, ax = plt.subplots(figsize=(5, 5))\n",
    "\n",
    "# ax.scatter(metrics.drop_duplicates(['group_ods_pct', 'group_gini'])['group_ods_pct'], metrics.drop_duplicates(['group_ods_pct', 'group_gini'])['group_pct_diff'])\n",
    "# ax.set_xlabel('% of total satisfied OD flows')\n",
    "# ax.set_ylabel('Equity of benefits (1-difference)')\n",
    "# fig.suptitle('Utility vs Equity - Dilemma Environment')\n",
    "# ax.set_ylim((0,1))\n",
    "# ax.set_xlim((0,1))\n",
    "\n",
    "# # for i, txt in enumerate(models):\n",
    "# #     ax.annotate(txt, (group_ods_pct[i], group_pct_ginis[i]))"
   ]
  },
  {
   "cell_type": "code",
   "execution_count": 8,
   "metadata": {},
   "outputs": [
    {
     "data": {
      "text/plain": [
       "(0.0, 1.0)"
      ]
     },
     "execution_count": 8,
     "metadata": {},
     "output_type": "execute_result"
    },
    {
     "data": {
      "image/png": "[encoded data removed]",
      "text/plain": [
       "<Figure size 360x360 with 1 Axes>"
      ]
     },
     "metadata": {
      "needs_background": "light"
     },
     "output_type": "display_data"
    }
   ],
   "source": [
    "fig, ax = plt.subplots(figsize=(5, 5))\n",
    "\n",
    "ax.scatter(group_ods_pct, group_pct_diff, alpha=0.5)\n",
    "ax.set_xlabel('% of total satisfied OD flows')\n",
    "ax.set_ylabel('Equity of benefits (1-difference)')\n",
    "fig.suptitle('Utility vs Equity - Dilemma Environment')\n",
    "ax.set_ylim((0,1))\n",
    "ax.set_xlim((0,1))\n",
    "\n",
    "# for i, txt in enumerate(models):\n",
    "#     ax.annotate(txt, (group_ods_pct[i], group_pct_ginis[i]))"
   ]
  },
  {
   "cell_type": "code",
   "execution_count": 236,
   "metadata": {},
   "outputs": [
    {
     "name": "stderr",
     "output_type": "stream",
     "text": [
      "c:\\Users\\Dimitris\\Documents\\GitHub\\fair-network-expansion\\environment.py:58: UserWarning:\n",
      "\n",
      "__floordiv__ is deprecated, and its behavior will change in a future version of pytorch. It currently rounds toward 0 (like the 'trunc' function NOT 'floor'). This results in incorrect rounding for negative values. To keep the current behavior, use torch.div(a, b, rounding_mode='trunc'), or for actual floor division, use torch.div(a, b, rounding_mode='floor').\n",
      "\n"
     ]
    },
    {
     "data": {
      "text/plain": [
       "Text(0.5, 1.0, 'Aggregate Origin-Destination Flow')"
      ]
     },
     "execution_count": 236,
     "metadata": {},
     "output_type": "execute_result"
    },
    {
     "data": {
      "image/png": "[encoded data removed]",
      "text/plain": [
       "<Figure size 720x720 with 2 Axes>"
      ]
     },
     "metadata": {
      "needs_background": "light"
     },
     "output_type": "display_data"
    }
   ],
   "source": [
    "# TODO: transfer this method to the environment class.\n",
    "import torch\n",
    "from matplotlib import cm\n",
    "import numpy as np\n",
    "device = torch.device('cuda' if torch.cuda.is_available() else 'cpu')\n",
    "\n",
    "dilemma = Environment(Path(f\"./environments/dilemma_5x5\"))\n",
    "\n",
    "def calculate_agg_od(environment):\n",
    "    \"\"\"Calculate aggregate origin-destination flow matrix for each grid square of the given environment.\n",
    "\n",
    "    Args:\n",
    "        environment (Environment): environment for which to calcualte aggregate OD per grid square.\n",
    "\n",
    "    Returns:\n",
    "        torch.Tensor: aggregate od by grid\n",
    "    \"\"\"\n",
    "    # \n",
    "    # A measure of importance of each square.\n",
    "    agg_od_g = torch.zeros((environment.grid_x_size, environment.grid_y_size)).to(device)\n",
    "    agg_od_v = environment.od_mx.sum(axis=1)\n",
    "    # Get the grid indices.\n",
    "    for i in range(agg_od_v.shape[0]):\n",
    "        g = environment.vector_to_grid(torch.Tensor([i])).type(torch.int32)\n",
    "        agg_od_g[g[0], g[1]] = agg_od_v[i]\n",
    "\n",
    "    return agg_od_g\n",
    "\n",
    "dilemma_od = calculate_agg_od(dilemma).cpu()\n",
    "fig, ax = plt.subplots(figsize=(10, 10))\n",
    "\n",
    "im0 = ax.imshow(dilemma_od, cm.get_cmap('Blues'))\n",
    "ax.set_xticks(np.arange(-.5, 4, 1))\n",
    "ax.set_yticks(np.arange(-.5, 4, 1))\n",
    "ax.set_xticklabels(np.arange(0, 5, 1))\n",
    "ax.set_yticklabels(np.arange(0, 5, 1))\n",
    "ax.grid(color='gray', linewidth=2)\n",
    "# cax = fig.add_axes([0.65, 0.175, 0.2, 0.02])\n",
    "fig.colorbar(im0, orientation='vertical', fraction=0.046, pad=0.04)\n",
    "ax.set_title('Aggregate Origin-Destination Flow')\n",
    "\n",
    "\n",
    "# # for i, l in enumerate(metrics.drop_duplicates(['group_ods_pct', 'group_gini'])['line']):\n",
    "# for i, l in enumerate(metrics.drop_duplicates(['group_ods_pct', 'group_gini']).iloc[0:1]['line']):\n",
    "#     # Sort the pairs in such a way to make a continuous connected line\n",
    "#     print(l)\n",
    "#     l_sorted = sorted(l, key=lambda x: x[0], reverse=True)\n",
    "\n",
    "#     l_g = list(zip(*l_sorted))\n",
    "#     ax.plot(l_g[1], l_g[0], '-ok')\n",
    "#     # axs[1].plot(l_v[1], l_v[0], '-or', label=label)\n"
   ]
  },
  {
   "cell_type": "code",
   "execution_count": 164,
   "metadata": {},
   "outputs": [
    {
     "data": {
      "text/html": [
       "<div>\n",
       "<style scoped>\n",
       "    .dataframe tbody tr th:only-of-type {\n",
       "        vertical-align: middle;\n",
       "    }\n",
       "\n",
       "    .dataframe tbody tr th {\n",
       "        vertical-align: top;\n",
       "    }\n",
       "\n",
       "    .dataframe thead th {\n",
       "        text-align: right;\n",
       "    }\n",
       "</style>\n",
       "<table border=\"1\" class=\"dataframe\">\n",
       "  <thead>\n",
       "    <tr style=\"text-align: right;\">\n",
       "      <th></th>\n",
       "      <th>model</th>\n",
       "      <th>line</th>\n",
       "      <th>group_od</th>\n",
       "      <th>group_ods_pct</th>\n",
       "      <th>group_gini</th>\n",
       "      <th>group_pct_gini</th>\n",
       "      <th>group_pct_diff</th>\n",
       "    </tr>\n",
       "  </thead>\n",
       "  <tbody>\n",
       "    <tr>\n",
       "      <th>0</th>\n",
       "      <td>dilemma_5x5_20220503_13_58_29.563962</td>\n",
       "      <td>[[0, 0], [0, 1], [0, 2], [0, 3], [0, 4], [1, 0...</td>\n",
       "      <td>9.0</td>\n",
       "      <td>0.825688</td>\n",
       "      <td>0.111111</td>\n",
       "      <td>0.285223</td>\n",
       "      <td>0.420760</td>\n",
       "    </tr>\n",
       "    <tr>\n",
       "      <th>3</th>\n",
       "      <td>dilemma_5x5_20220503_13_57_24.615759</td>\n",
       "      <td>[[0, 0], [1, 0], [2, 0], [3, 0], [4, 0], [4, 1...</td>\n",
       "      <td>5.0</td>\n",
       "      <td>0.458716</td>\n",
       "      <td>0.160000</td>\n",
       "      <td>0.378132</td>\n",
       "      <td>0.801668</td>\n",
       "    </tr>\n",
       "    <tr>\n",
       "      <th>5</th>\n",
       "      <td>dilemma_5x5_20220503_15_18_36.055557</td>\n",
       "      <td>[[0, 0], [0, 1], [0, 2], [0, 3], [0, 4], [1, 4...</td>\n",
       "      <td>5.6</td>\n",
       "      <td>0.513761</td>\n",
       "      <td>0.285714</td>\n",
       "      <td>0.439189</td>\n",
       "      <td>0.866543</td>\n",
       "    </tr>\n",
       "    <tr>\n",
       "      <th>6</th>\n",
       "      <td>dilemma_5x5_20220503_16_36_50.970871</td>\n",
       "      <td>[[0, 2], [0, 3], [0, 4], [1, 2], [2, 2], [3, 2...</td>\n",
       "      <td>3.6</td>\n",
       "      <td>0.330275</td>\n",
       "      <td>0.388889</td>\n",
       "      <td>0.329873</td>\n",
       "      <td>0.726599</td>\n",
       "    </tr>\n",
       "  </tbody>\n",
       "</table>\n",
       "</div>"
      ],
      "text/plain": [
       "                                  model  \\\n",
       "0  dilemma_5x5_20220503_13_58_29.563962   \n",
       "3  dilemma_5x5_20220503_13_57_24.615759   \n",
       "5  dilemma_5x5_20220503_15_18_36.055557   \n",
       "6  dilemma_5x5_20220503_16_36_50.970871   \n",
       "\n",
       "                                                line  group_od  group_ods_pct  \\\n",
       "0  [[0, 0], [0, 1], [0, 2], [0, 3], [0, 4], [1, 0...       9.0       0.825688   \n",
       "3  [[0, 0], [1, 0], [2, 0], [3, 0], [4, 0], [4, 1...       5.0       0.458716   \n",
       "5  [[0, 0], [0, 1], [0, 2], [0, 3], [0, 4], [1, 4...       5.6       0.513761   \n",
       "6  [[0, 2], [0, 3], [0, 4], [1, 2], [2, 2], [3, 2...       3.6       0.330275   \n",
       "\n",
       "   group_gini  group_pct_gini  group_pct_diff  \n",
       "0    0.111111        0.285223        0.420760  \n",
       "3    0.160000        0.378132        0.801668  \n",
       "5    0.285714        0.439189        0.866543  \n",
       "6    0.388889        0.329873        0.726599  "
      ]
     },
     "execution_count": 164,
     "metadata": {},
     "output_type": "execute_result"
    }
   ],
   "source": [
    "metrics.drop_duplicates(['group_ods_pct', 'group_gini'])"
   ]
  },
  {
   "cell_type": "code",
   "execution_count": null,
   "metadata": {},
   "outputs": [],
   "source": []
  }
 ],
 "metadata": {
  "interpreter": {
   "hash": "3512fcb3fb14e9dcf131084a6b531a5cd287c0a90c0e14b415d81d1438b15440"
  },
  "kernelspec": {
   "display_name": "Python 3.9.9 64-bit ('fair-nw-expansion')",
   "language": "python",
   "name": "python3"
  },
  "language_info": {
   "codemirror_mode": {
    "name": "ipython",
    "version": 3
   },
   "file_extension": ".py",
   "mimetype": "text/x-python",
   "name": "python",
   "nbconvert_exporter": "python",
   "pygments_lexer": "ipython3",
   "version": "3.9.9"
  },
  "orig_nbformat": 4
 },
 "nbformat": 4,
 "nbformat_minor": 2
}
