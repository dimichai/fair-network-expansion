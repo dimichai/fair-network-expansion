{
 "cells": [
  {
   "cell_type": "code",
   "execution_count": 81,
   "metadata": {},
   "outputs": [],
   "source": [
    "from pathlib import Path\n",
    "import matplotlib.pyplot as plt\n",
    "import json\n",
    "import pandas as pd\n",
    "from environment import Environment"
   ]
  },
  {
   "cell_type": "code",
   "execution_count": 88,
   "metadata": {},
   "outputs": [],
   "source": [
    "# Paths of models to evalute\n",
    "# environment = Environment(Path(f\"./environments/dilemma\"), groups_file='./groups.txt')\n",
    "# constraints = ForwardConstraints(environment.grid_x_size, environment.grid_y_size, environment.existing_lines_full, environment.grid_to_vector)\n",
    "models = ['dilemma_5x5_20220503_13_58_29.563962', 'dilemma_5x5_20220503_17_47_23.454216', 'dilemma_5x5_20220419_13_22_47.509481', \n",
    "            'dilemma_5x5_20220503_13_57_24.615759',\n",
    "            'dilemma_5x5_20220418_17_43_08.080415', 'dilemma_5x5_20220503_15_18_36.055557', 'dilemma_5x5_20220503_16_36_50.970871']\n",
    "\n",
    "lines, group_ginis, group_pct_ginis, group_ods, group_ods_pct, group_pct_diff = [], [], [], [], [], []\n",
    "for model_path in models:\n",
    "    with open(Path('result', model_path, 'result_metrics.json')) as json_file:\n",
    "        data = json.load(json_file)\n",
    "        lines.append(data['avg_generated_line'])\n",
    "        group_ods.append(data['mean_sat_group_od'])\n",
    "        group_ods_pct.append(data['mean_sat_group_od_pct'])\n",
    "        group_ginis.append(0.5-data['group_gini'])\n",
    "        group_pct_ginis.append(0.5-data['group_pct_gini'])\n",
    "        group_pct_diff.append(1-abs(data['mean_sat_od_by_group_pct'][0] - data['mean_sat_od_by_group_pct'][1]))\n",
    "\n"
   ]
  },
  {
   "cell_type": "code",
   "execution_count": 89,
   "metadata": {},
   "outputs": [
    {
     "data": {
      "text/html": [
       "<div>\n",
       "<style scoped>\n",
       "    .dataframe tbody tr th:only-of-type {\n",
       "        vertical-align: middle;\n",
       "    }\n",
       "\n",
       "    .dataframe tbody tr th {\n",
       "        vertical-align: top;\n",
       "    }\n",
       "\n",
       "    .dataframe thead th {\n",
       "        text-align: right;\n",
       "    }\n",
       "</style>\n",
       "<table border=\"1\" class=\"dataframe\">\n",
       "  <thead>\n",
       "    <tr style=\"text-align: right;\">\n",
       "      <th></th>\n",
       "      <th>model</th>\n",
       "      <th>line</th>\n",
       "      <th>group_od</th>\n",
       "      <th>group_ods_pct</th>\n",
       "      <th>group_gini</th>\n",
       "      <th>group_pct_gini</th>\n",
       "      <th>group_pct_diff</th>\n",
       "    </tr>\n",
       "  </thead>\n",
       "  <tbody>\n",
       "    <tr>\n",
       "      <th>0</th>\n",
       "      <td>dilemma_5x5_20220503_13_58_29.563962</td>\n",
       "      <td>[[0, 0], [0, 1], [0, 2], [0, 3], [0, 4], [1, 0...</td>\n",
       "      <td>9.0</td>\n",
       "      <td>0.825688</td>\n",
       "      <td>0.111111</td>\n",
       "      <td>0.285223</td>\n",
       "      <td>0.420760</td>\n",
       "    </tr>\n",
       "    <tr>\n",
       "      <th>1</th>\n",
       "      <td>dilemma_5x5_20220503_17_47_23.454216</td>\n",
       "      <td>[[0, 0], [0, 1], [0, 2], [0, 3], [0, 4], [1, 0...</td>\n",
       "      <td>9.0</td>\n",
       "      <td>0.825688</td>\n",
       "      <td>0.111111</td>\n",
       "      <td>0.285223</td>\n",
       "      <td>0.420760</td>\n",
       "    </tr>\n",
       "    <tr>\n",
       "      <th>2</th>\n",
       "      <td>dilemma_5x5_20220419_13_22_47.509481</td>\n",
       "      <td>[[0, 0], [0, 1], [0, 2], [0, 3], [0, 4], [1, 0...</td>\n",
       "      <td>9.0</td>\n",
       "      <td>0.825688</td>\n",
       "      <td>0.111111</td>\n",
       "      <td>0.285223</td>\n",
       "      <td>0.420760</td>\n",
       "    </tr>\n",
       "    <tr>\n",
       "      <th>3</th>\n",
       "      <td>dilemma_5x5_20220503_13_57_24.615759</td>\n",
       "      <td>[[0, 0], [1, 0], [2, 0], [3, 0], [4, 0], [4, 1...</td>\n",
       "      <td>5.0</td>\n",
       "      <td>0.458716</td>\n",
       "      <td>0.160000</td>\n",
       "      <td>0.378132</td>\n",
       "      <td>0.801668</td>\n",
       "    </tr>\n",
       "    <tr>\n",
       "      <th>4</th>\n",
       "      <td>dilemma_5x5_20220418_17_43_08.080415</td>\n",
       "      <td>[[0, 0], [0, 1], [0, 2], [0, 3], [0, 4], [1, 0...</td>\n",
       "      <td>9.0</td>\n",
       "      <td>0.825688</td>\n",
       "      <td>0.111111</td>\n",
       "      <td>0.285223</td>\n",
       "      <td>0.420760</td>\n",
       "    </tr>\n",
       "    <tr>\n",
       "      <th>5</th>\n",
       "      <td>dilemma_5x5_20220503_15_18_36.055557</td>\n",
       "      <td>[[0, 0], [0, 1], [0, 2], [0, 3], [0, 4], [1, 4...</td>\n",
       "      <td>5.6</td>\n",
       "      <td>0.513761</td>\n",
       "      <td>0.285714</td>\n",
       "      <td>0.439189</td>\n",
       "      <td>0.866543</td>\n",
       "    </tr>\n",
       "    <tr>\n",
       "      <th>6</th>\n",
       "      <td>dilemma_5x5_20220503_16_36_50.970871</td>\n",
       "      <td>[[0, 2], [0, 3], [0, 4], [1, 2], [2, 2], [3, 2...</td>\n",
       "      <td>3.6</td>\n",
       "      <td>0.330275</td>\n",
       "      <td>0.388889</td>\n",
       "      <td>0.329873</td>\n",
       "      <td>0.726599</td>\n",
       "    </tr>\n",
       "  </tbody>\n",
       "</table>\n",
       "</div>"
      ],
      "text/plain": [
       "                                  model  \\\n",
       "0  dilemma_5x5_20220503_13_58_29.563962   \n",
       "1  dilemma_5x5_20220503_17_47_23.454216   \n",
       "2  dilemma_5x5_20220419_13_22_47.509481   \n",
       "3  dilemma_5x5_20220503_13_57_24.615759   \n",
       "4  dilemma_5x5_20220418_17_43_08.080415   \n",
       "5  dilemma_5x5_20220503_15_18_36.055557   \n",
       "6  dilemma_5x5_20220503_16_36_50.970871   \n",
       "\n",
       "                                                line  group_od  group_ods_pct  \\\n",
       "0  [[0, 0], [0, 1], [0, 2], [0, 3], [0, 4], [1, 0...       9.0       0.825688   \n",
       "1  [[0, 0], [0, 1], [0, 2], [0, 3], [0, 4], [1, 0...       9.0       0.825688   \n",
       "2  [[0, 0], [0, 1], [0, 2], [0, 3], [0, 4], [1, 0...       9.0       0.825688   \n",
       "3  [[0, 0], [1, 0], [2, 0], [3, 0], [4, 0], [4, 1...       5.0       0.458716   \n",
       "4  [[0, 0], [0, 1], [0, 2], [0, 3], [0, 4], [1, 0...       9.0       0.825688   \n",
       "5  [[0, 0], [0, 1], [0, 2], [0, 3], [0, 4], [1, 4...       5.6       0.513761   \n",
       "6  [[0, 2], [0, 3], [0, 4], [1, 2], [2, 2], [3, 2...       3.6       0.330275   \n",
       "\n",
       "   group_gini  group_pct_gini  group_pct_diff  \n",
       "0    0.111111        0.285223        0.420760  \n",
       "1    0.111111        0.285223        0.420760  \n",
       "2    0.111111        0.285223        0.420760  \n",
       "3    0.160000        0.378132        0.801668  \n",
       "4    0.111111        0.285223        0.420760  \n",
       "5    0.285714        0.439189        0.866543  \n",
       "6    0.388889        0.329873        0.726599  "
      ]
     },
     "execution_count": 89,
     "metadata": {},
     "output_type": "execute_result"
    }
   ],
   "source": [
    "metrics = pd.DataFrame(zip(models, lines, group_ods, group_ods_pct, group_ginis, group_pct_ginis, group_pct_diff), \n",
    "                columns=['model', 'line', 'group_od', 'group_ods_pct', 'group_gini', 'group_pct_gini', 'group_pct_diff'])\n",
    "\n",
    "metrics"
   ]
  },
  {
   "cell_type": "code",
   "execution_count": 78,
   "metadata": {},
   "outputs": [
    {
     "data": {
      "text/plain": [
       "(0.0, 1.0)"
      ]
     },
     "execution_count": 78,
     "metadata": {},
     "output_type": "execute_result"
    },
    {
     "data": {
      "image/png": "[encoded data removed]",
      "text/plain": [
       "<Figure size 360x360 with 1 Axes>"
      ]
     },
     "metadata": {
      "needs_background": "light"
     },
     "output_type": "display_data"
    }
   ],
   "source": [
    "fig, ax = plt.subplots(figsize=(5, 5))\n",
    "\n",
    "ax.scatter(group_ods_pct, group_pct_diff, alpha=0.5)\n",
    "ax.set_xlabel('% of total satisfied OD flows')\n",
    "ax.set_ylabel('Equity of benefits')\n",
    "fig.suptitle('Utility vs Equity - Dilemma Environment')\n",
    "ax.set_ylim((0,1))\n",
    "ax.set_xlim((0,1))\n",
    "\n",
    "# for i, txt in enumerate(models):\n",
    "#     ax.annotate(txt, (group_ods_pct[i], group_pct_ginis[i]))"
   ]
  },
  {
   "cell_type": "code",
   "execution_count": 80,
   "metadata": {},
   "outputs": [],
   "source": [
    "# import plotly.express as px\n",
    "# fig = px.scatter(metrics, x='group_ods_pct', y='group_pct_diff', \n",
    "#                 labels={'group_ods_pct': '% of total satisfied OD flows', 'group_pct_diff': 'Equity of benefits (1-difference)'}, title='Utility vs Equity - Dilemma Environment',\n",
    "#                 hover_name=\"model\")\n",
    "# fig.update_xaxes(range=[0, 1])\n",
    "# fig.update_yaxes(range=[0, 1])\n",
    "# fig.update_layout(\n",
    "#     autosize=False,\n",
    "# )\n",
    "# fig.show()"
   ]
  },
  {
   "cell_type": "code",
   "execution_count": 106,
   "metadata": {},
   "outputs": [
    {
     "data": {
      "image/png": "[encoded data removed]",
      "text/plain": [
       "<Figure size 360x360 with 2 Axes>"
      ]
     },
     "metadata": {
      "needs_background": "light"
     },
     "output_type": "display_data"
    }
   ],
   "source": [
    "# TODO: transfer this method to the environment class.\n",
    "import torch\n",
    "from matplotlib import cm\n",
    "device = torch.device('cuda' if torch.cuda.is_available() else 'cpu')\n",
    "\n",
    "dilemma = Environment(Path(f\"./environments/dilemma_5x5\"))\n",
    "\n",
    "def calculate_agg_od(environment):\n",
    "    \"\"\"Calculate aggregate origin-destination flow matrix for each grid square of the given environment.\n",
    "\n",
    "    Args:\n",
    "        environment (Environment): environment for which to calcualte aggregate OD per grid square.\n",
    "\n",
    "    Returns:\n",
    "        torch.Tensor: aggregate od by grid\n",
    "    \"\"\"\n",
    "    # \n",
    "    # A measure of importance of each square.\n",
    "    agg_od_g = torch.zeros((environment.grid_x_size, environment.grid_y_size)).to(device)\n",
    "    agg_od_v = environment.od_mx.sum(axis=1)\n",
    "    # Get the grid indices.\n",
    "    for i in range(agg_od_v.shape[0]):\n",
    "        g = environment.vector_to_grid(torch.Tensor([i])).type(torch.int32)\n",
    "        agg_od_g[g[0], g[1]] = agg_od_v[i]\n",
    "\n",
    "    return agg_od_g\n",
    "\n",
    "dilemma_od = calculate_agg_od(dilemma).cpu()\n",
    "fig, ax = plt.subplots(figsize=(5, 5))\n",
    "\n",
    "im0 = ax.imshow(dilemma_od, cm.get_cmap('YlOrBr'))\n",
    "cax = fig.add_axes([0.29, 0.15, 0.2, 0.02])\n",
    "fig.colorbar(im0, cax=cax, orientation='horizontal')\n",
    "ax.set_title('Aggregate Origin-Destination Flow')\n",
    "\n",
    "\n",
    "for i, l in enumerate([metrics.iloc[0]['line']]):\n",
    "    l_g = list(zip(*l))\n",
    "    ax.plot(l_g[1], l_g[0], '-ok')\n",
    "    # axs[1].plot(l_v[1], l_v[0], '-or', label=label)\n"
   ]
  }
 ],
 "metadata": {
  "interpreter": {
   "hash": "c8745f5d533411c40d213a3b23fabe39b93f9bf02ffe5625f904f69b8feb21b0"
  },
  "kernelspec": {
   "display_name": "Python 3.9.7 ('fair-nw-expansion')",
   "language": "python",
   "name": "python3"
  },
  "language_info": {
   "codemirror_mode": {
    "name": "ipython",
    "version": 3
   },
   "file_extension": ".py",
   "mimetype": "text/x-python",
   "name": "python",
   "nbconvert_exporter": "python",
   "pygments_lexer": "ipython3",
   "version": "3.9.7"
  },
  "orig_nbformat": 4
 },
 "nbformat": 4,
 "nbformat_minor": 2
}
