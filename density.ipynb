{
 "cells": [
  {
   "cell_type": "code",
   "execution_count": 1,
   "metadata": {},
   "outputs": [],
   "source": [
    "%reload_ext autoreload"
   ]
  },
  {
   "cell_type": "code",
   "execution_count": 2,
   "metadata": {},
   "outputs": [
    {
     "name": "stderr",
     "output_type": "stream",
     "text": [
      "/home/lo/git/fair-network-expansion/environment.py:330: SyntaxWarning: 'int' object is not callable; perhaps you missed a comma?\n",
      "  self.sigmoid = lambda x: 1 / (1 + torch.exp(-20(x-dmin)))\n"
     ]
    },
    {
     "name": "stdout",
     "output_type": "stream",
     "text": [
      "parabolic\n",
      "No groups file provided. Trying to use the default groups file.\n"
     ]
    },
    {
     "name": "stderr",
     "output_type": "stream",
     "text": [
      "/home/lo/anaconda3/envs/fair-nw-expansion-linux/lib/python3.10/site-packages/torch/functional.py:568: UserWarning: torch.meshgrid: in an upcoming release, it will be required to pass the indexing argument. (Triggered internally at  /home/conda/feedstock_root/build_artifacts/pytorch-recipe_1650977166858/work/aten/src/ATen/native/TensorShape.cpp:2227.)\n",
      "  return _VF.meshgrid(tensors, **kwargs)  # type: ignore[attr-defined]\n"
     ]
    },
    {
     "name": "stdout",
     "output_type": "stream",
     "text": [
      "Number of trainable parameters actor-critic: 182912 / 139181\n",
      "Starts training on cuda - Model location is result/diagonal_5x5_20220730_14_22_37.670833\n"
     ]
    },
    {
     "name": "stderr",
     "output_type": "stream",
     "text": [
      "/home/lo/git/fair-network-expansion/environment.py:58: UserWarning: __floordiv__ is deprecated, and its behavior will change in a future version of pytorch. It currently rounds toward 0 (like the 'trunc' function NOT 'floor'). This results in incorrect rounding for negative values. To keep the current behavior, use torch.div(a, b, rounding_mode='trunc'), or for actual floor division, use torch.div(a, b, rounding_mode='floor').\n",
      "  grid_x = (vector_idx // self.grid_y_size)\n"
     ]
    },
    {
     "name": "stdout",
     "output_type": "stream",
     "text": [
      "epoch 0, average_reward: 0.059, actor_loss: -3.9776,  sf: 0.6125, ll: 6.09, critic_loss: 0.0796, cost_time: 4.0906s\n",
      "epoch 1, average_reward: 0.045, actor_loss: 1242.8704,  sf: 0.5844, ll: 5.54, critic_loss: 4770.1895, cost_time: 2.8266s\n",
      "epoch 2, average_reward: 0.070, actor_loss: 5.1324,  sf: 0.6169, ll: 6.50, critic_loss: 0.0952, cost_time: 3.7006s\n",
      "epoch 3, average_reward: 0.075, actor_loss: -1595.9237,  sf: 0.6036, ll: 6.58, critic_loss: 5798.4531, cost_time: 4.0087s\n",
      "epoch 4, average_reward: 0.064, actor_loss: -1477.6577,  sf: 0.5921, ll: 6.04, critic_loss: 5786.8584, cost_time: 3.4199s\n",
      "epoch 5, average_reward: 0.035, actor_loss: -773.9726,  sf: 0.5923, ll: 5.32, critic_loss: 2020.0905, cost_time: 2.7250s\n",
      "epoch 6, average_reward: 0.044, actor_loss: -235.0258,  sf: 0.5817, ll: 4.27, critic_loss: 294.0408, cost_time: 1.9002s\n",
      "epoch 7, average_reward: 0.011, actor_loss: -36.6025,  sf: 0.5529, ll: 3.06, critic_loss: 14.9040, cost_time: 1.1985s\n",
      "epoch 8, average_reward: 0.008, actor_loss: 13.5604,  sf: 0.3868, ll: 1.84, critic_loss: 7.0101, cost_time: 0.7062s\n",
      "epoch 9, average_reward: 0.021, actor_loss: 13.8411,  sf: 0.5457, ll: 2.27, critic_loss: 5.5184, cost_time: 0.8370s\n",
      "Finished training in 0.4242468277613322 minutes.\n"
     ]
    },
    {
     "data": {
      "image/png": "[encoded data removed]",
      "text/plain": [
       "<Figure size 432x288 with 1 Axes>"
      ]
     },
     "metadata": {
      "needs_background": "light"
     },
     "output_type": "display_data"
    }
   ],
   "source": [
    "%autoreload\n",
    "import torch\n",
    "import numpy as np\n",
    "import json\n",
    "import os\n",
    "import argparse\n",
    "import matplotlib.pyplot as plt\n",
    "import matplotlib as mpl\n",
    "\n",
    "from pathlib import Path\n",
    "from main import set_seed\n",
    "from environment import Environment\n",
    "from constraints import ForwardConstraints\n",
    "from trainer import Trainer\n",
    "\n",
    "from constants import device\n",
    "\n",
    "args_dict = {\n",
    "  \"hidden_size\": 128,\n",
    "  \"static_size\": 2,\n",
    "  \"dynamic_size\": 1,\n",
    "  \"num_layers\": 1,\n",
    "  \"dropout\": 0.1,\n",
    "  \"seed\": None,\n",
    "  \"checkpoint\": None,\n",
    "  \"test\": False,\n",
    "  \"epoch_max\": 10,\n",
    "  \"train_size\": 128,\n",
    "  \"line_unit_price\": 1.0,\n",
    "  \"station_price\": 5.0,\n",
    "  \"result_path\": None,\n",
    "  \"actor_lr\": 0.01,\n",
    "  \"critic_lr\": 0.01,\n",
    "  \"actor_mlp_layers\": 5,\n",
    "  \"critic_mlp_layers\": 4,\n",
    "  \"station_num_lim\": 25,\n",
    "  \"budget\": 210,\n",
    "  \"max_grad_norm\": 2.0,\n",
    "  \"environment\": \"diagonal_5x5\",\n",
    "  \"reward\": \"weighted\",\n",
    "  \"ses_weight\": 0,\n",
    "  \"var_lambda\": 0,\n",
    "  \"constraint_free\": True,\n",
    "  \"cf_reward_scaling\": \"parabolic\",\n",
    "  \"cf_efficient_station\": None,\n",
    "  \"ggi_weight\": 2,\n",
    "  \"groups_file\": None,\n",
    "  \"arch\": \"pointer\",\n",
    "  \"no_log\": True,\n",
    "  \"use_abs\": False,\n",
    "  \"early_stopping\": 0,\n",
    "  \"plot_every\": 0,\n",
    "  \"cf_dmin\": 1,\n",
    "  \"cf_dmax\": 1.4\n",
    "}\n",
    "args = argparse.Namespace(**args_dict)\n",
    "if args.seed:\n",
    "    set_seed(args.seed)\n",
    "environment = Environment(Path(f\"./environments/{args.environment}\"), groups_file=args.groups_file, reward_scaling_fn=args.cf_reward_scaling, efficient_station_fn=args.cf_efficient_station, dmin=args.cf_dmin, dmax=args.cf_dmax)\n",
    "constraints = ForwardConstraints(environment.grid_x_size, environment.grid_y_size, environment.existing_lines_full, environment.grid_to_vector)\n",
    "trainer = Trainer(environment, constraints, args)\n",
    "trainer.train(args)\n"
   ]
  },
  {
   "cell_type": "code",
   "execution_count": 3,
   "metadata": {},
   "outputs": [
    {
     "name": "stdout",
     "output_type": "stream",
     "text": [
      "tensor([[0.],\n",
      "        [0.]])\n",
      "tensor([[0.],\n",
      "        [4.]])\n",
      "tensor([[0., 4.],\n",
      "        [0., 4.]])\n"
     ]
    },
    {
     "data": {
      "text/plain": [
       "tensor([5.0157e-07])"
      ]
     },
     "execution_count": 3,
     "metadata": {},
     "output_type": "execute_result"
    }
   ],
   "source": [
    "dmin = torch.Tensor([1])\n",
    "dmax = torch.Tensor([4])\n",
    "import math\n",
    "\n",
    "desired_mu = (dmin + dmax) / 2\n",
    "desired_var = (dmax - dmin) / 2\n",
    "desired_mu_fn = lambda m, s: torch.log(m**2 / (torch.sqrt(m**2 + s**2)))\n",
    "desired_var_fn = lambda m, s: torch.log(1 + (s**2 / m**2))\n",
    "mu = desired_mu_fn(desired_mu, desired_var)\n",
    "var = desired_var_fn(desired_mu, desired_var)\n",
    "log_gaussian = lambda x: 1 / (x * torch.sqrt(2*math.pi*desired_var)) * \\\n",
    "                                        torch.exp((-(torch.log(x)-desired_mu)**2)\\\n",
    "                                            /(2*desired_var))\n",
    "def p_Z_G(Z) -> torch.Tensor:\n",
    "    pass\n",
    "\n",
    "def p_ij_G(i,j) -> torch.Tensor:\n",
    "    i = environment.vector_to_grid(i)\n",
    "    print(i)\n",
    "    j = environment.vector_to_grid(j)\n",
    "    print(j)\n",
    "    d_ij = torch.Tensor([1000])\n",
    "    print(torch.cdist(i,j))\n",
    "    return log_gaussian(d_ij)\n",
    "    \n",
    "\n",
    "i = torch.Tensor([0]).unsqueeze(0).transpose(0,1)\n",
    "j = torch.Tensor([4]).unsqueeze(0)\n",
    "\n",
    "p_ij_G(i,j)"
   ]
  },
  {
   "cell_type": "code",
   "execution_count": 15,
   "metadata": {},
   "outputs": [],
   "source": [
    "# dynamic = torch.zeros((1, args.dynamic_size, environment.grid_size),\n",
    "#                             device=device).float()\n",
    "# tour_idx = trainer.actor.forward(environment.static, dynamic, 5)[0]\n",
    "# print(tour_idx)\n",
    "tour_idx = torch.Tensor([[0, 5, 10, 14, 8]]).long()"
   ]
  },
  {
   "cell_type": "code",
   "execution_count": 16,
   "metadata": {},
   "outputs": [
    {
     "data": {
      "text/plain": [
       "tensor([[0.0000, 4.0000],\n",
       "        [4.0000, 5.6569]])"
      ]
     },
     "execution_count": 16,
     "metadata": {},
     "output_type": "execute_result"
    }
   ],
   "source": [
    "a = torch.Tensor([[0,0], [0,4]])\n",
    "b = torch.Tensor([[0,0], [4,0]])\n",
    "\n",
    "torch.cdist(a, b)"
   ]
  },
  {
   "cell_type": "code",
   "execution_count": 25,
   "metadata": {},
   "outputs": [
    {
     "name": "stdout",
     "output_type": "stream",
     "text": [
      "tensor([[ 0,  5, 10, 14,  8]])\n",
      "tensor([[ 0,  5],\n",
      "        [ 0, 10],\n",
      "        [ 0, 14],\n",
      "        [ 0,  8],\n",
      "        [ 5, 10],\n",
      "        [ 5, 14],\n",
      "        [ 5,  8],\n",
      "        [10, 14],\n",
      "        [10,  8],\n",
      "        [14,  8]])\n",
      "torch.LongTensor\n",
      "tensor([0., 0., 0., 0., 0.], device='cuda:0')\n"
     ]
    }
   ],
   "source": [
    "od_scaling_mask = torch.zeros(environment.grid_size, environment.grid_size, device=device)\n",
    "# for r in od_scaling_mask:\n",
    "#     print(r)\n",
    "\n",
    "print(tour_idx)\n",
    "tour_grid = environment.station_distance_matrix(tour_idx)\n",
    "a = torch.cdist(tour_grid, tour_grid)\n",
    "\n",
    "ind = torch.combinations(tour_idx[0])\n",
    "\n",
    "print(tour_idx.type())\n",
    "print(od_scaling_mask[tour_idx[0], tour_idx[0]])\n",
    "# print(a)\n",
    "# for r in od_scaling_mask:\n",
    "#     print(r)\n",
    "# print(torch.is(a))"
   ]
  },
  {
   "cell_type": "code",
   "execution_count": null,
   "metadata": {},
   "outputs": [],
   "source": []
  }
 ],
 "metadata": {
  "interpreter": {
   "hash": "5da2f25db63311fd59f71128524396f7f62a4159926f102f10aff9bcd8df2bbb"
  },
  "kernelspec": {
   "display_name": "Python 3.10.4 64-bit ('fair-nw-expansion-linux': conda)",
   "language": "python",
   "name": "python3"
  },
  "language_info": {
   "codemirror_mode": {
    "name": "ipython",
    "version": 3
   },
   "file_extension": ".py",
   "mimetype": "text/x-python",
   "name": "python",
   "nbconvert_exporter": "python",
   "pygments_lexer": "ipython3",
   "version": "3.10.4"
  },
  "orig_nbformat": 4
 },
 "nbformat": 4,
 "nbformat_minor": 2
}
