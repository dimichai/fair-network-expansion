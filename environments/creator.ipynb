{
 "cells": [
  {
   "cell_type": "markdown",
   "metadata": {},
   "source": [
    "## OD matrix creator"
   ]
  },
  {
   "cell_type": "code",
   "execution_count": 1,
   "metadata": {},
   "outputs": [
    {
     "name": "stdout",
     "output_type": "stream",
     "text": [
      "2,8,5.61\n",
      "8,2,5.61\n",
      "8,14,7.48\n",
      "14,8,7.48\n",
      "14,18,4.78\n",
      "18,14,4.78\n",
      "18,22,7.61\n",
      "22,18,7.61\n",
      "22,16,10.68\n",
      "16,22,10.68\n",
      "16,10,7.1\n",
      "10,16,7.1\n",
      "10,6,4.77\n",
      "6,10,4.77\n",
      "6,2,5.29\n",
      "2,6,5.29\n",
      "10,12,6.38\n",
      "12,10,6.38\n",
      "4,14,6.3\n",
      "14,4,6.3\n"
     ]
    }
   ],
   "source": [
    "import numpy as np\n",
    "\n",
    "# draw a line\n",
    "pairs = [(2,8), (8,14), (14,18), (18,22), (22,16), (16,10), (10, 6), (6,2), (10, 12), (4, 14)]\n",
    "od = np.random.uniform(4, 16, size=len(pairs))\n",
    "for p, t in zip(pairs, od):\n",
    "    t = np.round(t, 2)\n",
    "    print(f'{p[0]},{p[1]},{t}')\n",
    "    print(f'{p[1]},{p[0]},{t}')"
   ]
  },
  {
   "cell_type": "markdown",
   "metadata": {},
   "source": [
    "## Ac matrix creator"
   ]
  },
  {
   "cell_type": "code",
   "execution_count": 10,
   "metadata": {},
   "outputs": [
    {
     "name": "stdout",
     "output_type": "stream",
     "text": [
      "0,0,1877\n",
      "0,1,2109\n",
      "0,2,1944\n",
      "0,3,2173\n",
      "0,4,2263\n",
      "1,0,2153\n",
      "1,1,2139\n",
      "1,2,2756\n",
      "1,3,2265\n",
      "1,4,2278\n",
      "2,0,2131\n",
      "2,1,3102\n",
      "2,2,3019\n",
      "2,3,2721\n",
      "2,4,2105\n",
      "3,0,2448\n",
      "3,1,1980\n",
      "3,2,3038\n",
      "3,3,2643\n",
      "3,4,2174\n",
      "4,0,2302\n",
      "4,1,2496\n",
      "4,2,2495\n",
      "4,3,2325\n",
      "4,4,1841\n"
     ]
    }
   ],
   "source": [
    "# create a house price matrix\n",
    "n = 5\n",
    "m = 5\n",
    "hp_mean = 3000\n",
    "city_center = np.array([(n-1)/2,(m-1)/2])\n",
    "city_grid = np.array(np.meshgrid(np.linspace(0, n-1, n, dtype=float), \n",
    "                                 np.linspace(0, m-1, m, dtype=float), \n",
    "                                 indexing='xy'))\n",
    "city_grid_dist = np.linalg.norm(np.subtract(city_grid.reshape(n,m,2), city_center).reshape(2,n,m), axis=0)\n",
    "city_grid_mean = hp_mean - 300 * city_grid_dist\n",
    "city_grid_std = city_grid_mean * 0.1\n",
    "ac = np.random.normal(city_grid_mean, city_grid_std).astype(int)\n",
    "for i in range(n):\n",
    "    for j in range(m):\n",
    "        print(f'{i},{j},{ac[i,j]}')"
   ]
  }
 ],
 "metadata": {
  "interpreter": {
   "hash": "5da2f25db63311fd59f71128524396f7f62a4159926f102f10aff9bcd8df2bbb"
  },
  "kernelspec": {
   "display_name": "Python 3.10.4 64-bit ('fair-nw-expansion-linux': conda)",
   "language": "python",
   "name": "python3"
  },
  "language_info": {
   "codemirror_mode": {
    "name": "ipython",
    "version": 3
   },
   "file_extension": ".py",
   "mimetype": "text/x-python",
   "name": "python",
   "nbconvert_exporter": "python",
   "pygments_lexer": "ipython3",
   "version": "3.10.4"
  },
  "orig_nbformat": 4
 },
 "nbformat": 4,
 "nbformat_minor": 2
}
